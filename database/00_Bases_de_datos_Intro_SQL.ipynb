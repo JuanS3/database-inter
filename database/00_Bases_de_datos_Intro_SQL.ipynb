{
  "nbformat": 4,
  "nbformat_minor": 0,
  "metadata": {
    "colab": {
      "provenance": []
    },
    "kernelspec": {
      "name": "python3",
      "display_name": "Python 3"
    },
    "language_info": {
      "name": "python"
    }
  },
  "cells": [
    {
      "cell_type": "markdown",
      "source": [
        "# ¿Qué es el Algebra relacional y SQL?"
      ],
      "metadata": {
        "id": "RqCI2JRX6o9Q"
      }
    },
    {
      "cell_type": "markdown",
      "source": [
        "El **álgebra relacional** es un ***lenguaje formal*** para expresar consultas sobre datos en forma de relaciones. Es una base teórica para los lenguajes de consulta de bases de datos relacionales, como SQL.\n",
        "\n",
        "**SQL** (**S**tructured **Q**uery **L**anguage) es un lenguaje de consulta de bases de datos relacionales que se utiliza para recuperar, insertar, actualizar y eliminar datos de una base de datos. Es un ***lenguaje declarativo***, lo que significa que se centra en lo que se desea obtener, en lugar de en cómo obtenerlo.\n",
        "\n",
        "## Componentes de SQL\n",
        "\n",
        "- **Lenguaje de definición de datos (DDL):** Se utiliza para crear, modificar y eliminar tablas y relaciones en una base de datos.\n",
        "\n",
        "- **Lenguaje de manipulación de datos (DML):** Se utiliza para recuperar, insertar, actualizar y eliminar datos de una base de datos.\n",
        "\n",
        "- **Lenguaje de control de datos (DCL):** Se utiliza para conceder y revocar permisos de acceso a una base de datos.\n",
        "\n",
        "## Beneficios de SQL:\n",
        "\n",
        "- **Eficiencia:** SQL es un lenguaje muy eficiente, lo que lo hace ideal para trabajar con grandes cantidades de datos.\n",
        "\n",
        "- **Flexibilidad:** SQL es un lenguaje muy flexible, lo que lo hace ideal para una amplia gama de aplicaciones.\n",
        "\n",
        "- **Portabilidad:** SQL es un lenguaje portátil, lo que significa que se puede utilizar en diferentes plataformas y sistemas operativos."
      ],
      "metadata": {
        "id": "VKV7p-fR0dxJ"
      }
    },
    {
      "cell_type": "markdown",
      "source": [
        "# Bases de datos con Python"
      ],
      "metadata": {
        "id": "SLMQAKpn0QQH"
      }
    },
    {
      "cell_type": "markdown",
      "source": [
        "Para este ejercicio vamos a hacer uso de una base de datos llamada chinook.db, esta base de datos se encuentra en **SQLite**, y se encuentra almacenada en el repositorio oficial del curso en la carpeta de **database**.\n",
        "\n",
        "Para visualizar los prints de una forma más elegante a la que nos da por defecto Python, vamos a hacer uso de una biblioteca que está en construcción llamada **ConsoleVerse**."
      ],
      "metadata": {
        "id": "iKh2IlC20ivB"
      }
    },
    {
      "cell_type": "code",
      "source": [
        "# El primer paso es obtener la base de datos chinook de SQLite que se encuentra en el repositorio\n",
        "!wget https://github.com/JuanS3/database-inter/raw/master/database/chinook.db"
      ],
      "metadata": {
        "colab": {
          "base_uri": "https://localhost:8080/"
        },
        "id": "mLjRFgGAxsFR",
        "outputId": "da9a021d-aada-422e-ca64-b69088fe5982"
      },
      "execution_count": null,
      "outputs": [
        {
          "output_type": "stream",
          "name": "stdout",
          "text": [
            "--2023-09-07 13:58:53--  https://github.com/JuanS3/database-inter/raw/master/database/chinook.db\n",
            "Resolving github.com (github.com)... 140.82.113.4\n",
            "Connecting to github.com (github.com)|140.82.113.4|:443... connected.\n",
            "HTTP request sent, awaiting response... 302 Found\n",
            "Location: https://raw.githubusercontent.com/JuanS3/database-inter/master/database/chinook.db [following]\n",
            "--2023-09-07 13:58:53--  https://raw.githubusercontent.com/JuanS3/database-inter/master/database/chinook.db\n",
            "Resolving raw.githubusercontent.com (raw.githubusercontent.com)... 185.199.110.133, 185.199.109.133, 185.199.111.133, ...\n",
            "Connecting to raw.githubusercontent.com (raw.githubusercontent.com)|185.199.110.133|:443... connected.\n",
            "HTTP request sent, awaiting response... 200 OK\n",
            "Length: 884736 (864K) [application/octet-stream]\n",
            "Saving to: ‘chinook.db’\n",
            "\n",
            "chinook.db          100%[===================>] 864.00K  --.-KB/s    in 0.05s   \n",
            "\n",
            "2023-09-07 13:58:53 (15.7 MB/s) - ‘chinook.db’ saved [884736/884736]\n",
            "\n"
          ]
        }
      ]
    },
    {
      "cell_type": "code",
      "source": [
        "# El segundo paso es instalar la biblioteca que vamos a usar para la impresión de las tablas\n",
        "# de una forma más elegante.\n",
        "!pip install git+https://github.com/JuanS3/ConsoleVerse.git"
      ],
      "metadata": {
        "colab": {
          "base_uri": "https://localhost:8080/"
        },
        "id": "_dA6HMGBzpyk",
        "outputId": "2b2c2137-2c67-4af4-9958-a506bd40451c"
      },
      "execution_count": null,
      "outputs": [
        {
          "output_type": "stream",
          "name": "stdout",
          "text": [
            "Collecting git+https://github.com/JuanS3/ConsoleVerse.git\n",
            "  Cloning https://github.com/JuanS3/ConsoleVerse.git to /tmp/pip-req-build-41c8am5j\n",
            "  Running command git clone --filter=blob:none --quiet https://github.com/JuanS3/ConsoleVerse.git /tmp/pip-req-build-41c8am5j\n",
            "  Resolved https://github.com/JuanS3/ConsoleVerse.git to commit 436fb84aa7be5a22853594242e25e3f57d2b1204\n",
            "  Preparing metadata (setup.py) ... \u001b[?25l\u001b[?25hdone\n",
            "Building wheels for collected packages: ConsoleVerse\n",
            "  Building wheel for ConsoleVerse (setup.py) ... \u001b[?25l\u001b[?25hdone\n",
            "  Created wheel for ConsoleVerse: filename=ConsoleVerse-0.0.1-py3-none-any.whl size=26500 sha256=5520eee3d3dd1677fec0ae87df8c801c25881b513041a34ca21de571d09f6c18\n",
            "  Stored in directory: /tmp/pip-ephem-wheel-cache-rqbrybcy/wheels/1c/b4/f7/a1864aeb92cc4887e200077744e8be537e532eb36527dbd685\n",
            "Successfully built ConsoleVerse\n",
            "Installing collected packages: ConsoleVerse\n",
            "Successfully installed ConsoleVerse-0.0.1\n"
          ]
        }
      ]
    },
    {
      "cell_type": "code",
      "source": [
        "# De la biblioteca ConsoleVerse llamamos el paquete console\n",
        "from consoleverse import console"
      ],
      "metadata": {
        "id": "A7NXAEnpz0jE"
      },
      "execution_count": null,
      "outputs": []
    },
    {
      "cell_type": "code",
      "source": [
        "def print_table(\n",
        "    values: list,\n",
        "    header: list,\n",
        "    style: str = 'dl',\n",
        "    max_values: int = 10\n",
        "    ) -> None:\n",
        "    console.print_matrix(values[:max_values], header=header, color='', indexes=None, style=style)"
      ],
      "metadata": {
        "id": "qEbZQ8nd8pFk"
      },
      "execution_count": null,
      "outputs": []
    },
    {
      "cell_type": "code",
      "execution_count": null,
      "metadata": {
        "id": "RMwQyfE1mY-a",
        "colab": {
          "base_uri": "https://localhost:8080/"
        },
        "outputId": "79d63a5b-b650-48bd-e6b8-d8d4b499ebe9"
      },
      "outputs": [
        {
          "output_type": "execute_result",
          "data": {
            "text/plain": [
              "sqlite3.Connection"
            ]
          },
          "metadata": {},
          "execution_count": 5
        }
      ],
      "source": [
        "# Para la conexión de la base de datos de SQLite, vamos a hacer uso\n",
        "# de la biblioteca llamada sqlite3\n",
        "import sqlite3\n",
        "\n",
        "conn = sqlite3.connect(\"chinook.db\") # En este punto creamos la conexión a la base de datos\n",
        "type(conn)"
      ]
    },
    {
      "cell_type": "code",
      "source": [
        "# Una vez establecida la conexión, lo que procedemos a hacer es generar un cursor\n",
        "# este es el que nos va a permitir generar consultas a la base de datos\n",
        "cur = conn.cursor()\n",
        "type(cur)"
      ],
      "metadata": {
        "colab": {
          "base_uri": "https://localhost:8080/"
        },
        "id": "GpMAmCDsyFhI",
        "outputId": "29055a5f-3b27-4cf2-9fd2-3771ee9dac03"
      },
      "execution_count": null,
      "outputs": [
        {
          "output_type": "execute_result",
          "data": {
            "text/plain": [
              "sqlite3.Cursor"
            ]
          },
          "metadata": {},
          "execution_count": 6
        }
      ]
    },
    {
      "cell_type": "code",
      "source": [
        "# Un pequeño ejemplo de como ejecutar Queries en la base de datos\n",
        "cur.execute(\"SELECT * FROM albums\")"
      ],
      "metadata": {
        "colab": {
          "base_uri": "https://localhost:8080/"
        },
        "id": "xPBZ2mzC2vh7",
        "outputId": "7cce5ee7-d079-42bc-fd03-e2e126cd440f"
      },
      "execution_count": null,
      "outputs": [
        {
          "output_type": "execute_result",
          "data": {
            "text/plain": [
              "<sqlite3.Cursor at 0x78b95de61840>"
            ]
          },
          "metadata": {},
          "execution_count": 7
        }
      ]
    },
    {
      "cell_type": "code",
      "source": [
        "# Almacenando el resultado de la consulta\n",
        "res = cur.execute(\"SELECT * FROM albums\")\n",
        "res"
      ],
      "metadata": {
        "colab": {
          "base_uri": "https://localhost:8080/"
        },
        "id": "COEQprEAr7cQ",
        "outputId": "ad110762-0dad-4ab0-9c8e-92face46e021"
      },
      "execution_count": null,
      "outputs": [
        {
          "output_type": "execute_result",
          "data": {
            "text/plain": [
              "<sqlite3.Cursor at 0x78b95de61840>"
            ]
          },
          "metadata": {},
          "execution_count": 8
        }
      ]
    },
    {
      "cell_type": "code",
      "source": [
        "# Traemos los valores del resultado de la consulta\n",
        "values = res.fetchall()\n",
        "values[:10]"
      ],
      "metadata": {
        "id": "auSHQbcmr-C7",
        "colab": {
          "base_uri": "https://localhost:8080/"
        },
        "outputId": "98c61663-8c5d-45f2-f7a5-885c50db4f73"
      },
      "execution_count": null,
      "outputs": [
        {
          "output_type": "execute_result",
          "data": {
            "text/plain": [
              "[(1, 'For Those About To Rock We Salute You', 1),\n",
              " (2, 'Balls to the Wall', 2),\n",
              " (3, 'Restless and Wild', 2),\n",
              " (4, 'Let There Be Rock', 1),\n",
              " (5, 'Big Ones', 3),\n",
              " (6, 'Jagged Little Pill', 4),\n",
              " (7, 'Facelift', 5),\n",
              " (8, 'Warner 25 Anos', 6),\n",
              " (9, 'Plays Metallica By Four Cellos', 7),\n",
              " (10, 'Audioslave', 8)]"
            ]
          },
          "metadata": {},
          "execution_count": 9
        }
      ]
    },
    {
      "cell_type": "code",
      "source": [
        "# Identificamos las columnas de la tabla consultada\n",
        "columns = tuple(name[0] for name in cur.description)\n",
        "columns"
      ],
      "metadata": {
        "colab": {
          "base_uri": "https://localhost:8080/"
        },
        "id": "BWCpTDZBs-WS",
        "outputId": "75329ad4-cad1-43a8-9a21-f657e127edf3"
      },
      "execution_count": null,
      "outputs": [
        {
          "output_type": "execute_result",
          "data": {
            "text/plain": [
              "('AlbumId', 'Title', 'ArtistId')"
            ]
          },
          "metadata": {},
          "execution_count": 10
        }
      ]
    },
    {
      "cell_type": "code",
      "source": [
        "# Imprimimos los valores como una tabla\n",
        "print_table(values, columns)"
      ],
      "metadata": {
        "colab": {
          "base_uri": "https://localhost:8080/"
        },
        "id": "ua3osRrR5Ne2",
        "outputId": "2f880b59-f43c-4037-a387-af161e28aa22"
      },
      "execution_count": null,
      "outputs": [
        {
          "output_type": "stream",
          "name": "stdout",
          "text": [
            "   \u001b[0m                     AlbumId                     \u001b[0m                      Title                      \u001b[0m                    ArtistId                     \u001b[0m\u001b[0m\n",
            " ╔═════════════════════════════════════════════════════════════════════════════════════════════════════════════════════════════════════════════════════╗\u001b[0m\n",
            "\u001b[0m\u001b[0m ║ \u001b[0m                        1                        \u001b[0m      For Those About To Rock We Salute You      \u001b[0m                        1                        \u001b[0m ║ \u001b[0m\n",
            "\u001b[0m\u001b[0m ║ \u001b[0m                        2                        \u001b[0m                Balls to the Wall                \u001b[0m                        2                        \u001b[0m ║ \u001b[0m\n",
            "\u001b[0m\u001b[0m ║ \u001b[0m                        3                        \u001b[0m                Restless and Wild                \u001b[0m                        2                        \u001b[0m ║ \u001b[0m\n",
            "\u001b[0m\u001b[0m ║ \u001b[0m                        4                        \u001b[0m                Let There Be Rock                \u001b[0m                        1                        \u001b[0m ║ \u001b[0m\n",
            "\u001b[0m\u001b[0m ║ \u001b[0m                        5                        \u001b[0m                    Big Ones                     \u001b[0m                        3                        \u001b[0m ║ \u001b[0m\n",
            "\u001b[0m\u001b[0m ║ \u001b[0m                        6                        \u001b[0m               Jagged Little Pill                \u001b[0m                        4                        \u001b[0m ║ \u001b[0m\n",
            "\u001b[0m\u001b[0m ║ \u001b[0m                        7                        \u001b[0m                    Facelift                     \u001b[0m                        5                        \u001b[0m ║ \u001b[0m\n",
            "\u001b[0m\u001b[0m ║ \u001b[0m                        8                        \u001b[0m                 Warner 25 Anos                  \u001b[0m                        6                        \u001b[0m ║ \u001b[0m\n",
            "\u001b[0m\u001b[0m ║ \u001b[0m                        9                        \u001b[0m         Plays Metallica By Four Cellos          \u001b[0m                        7                        \u001b[0m ║ \u001b[0m\n",
            "\u001b[0m\u001b[0m ║ \u001b[0m                       10                        \u001b[0m                   Audioslave                    \u001b[0m                        8                        \u001b[0m ║ \u001b[0m\n",
            " ╚═════════════════════════════════════════════════════════════════════════════════════════════════════════════════════════════════════════════════════╝\u001b[0m\n"
          ]
        }
      ]
    },
    {
      "cell_type": "markdown",
      "source": [
        "# Ejercicios"
      ],
      "metadata": {
        "id": "3eE0VXfb9mft"
      }
    },
    {
      "cell_type": "markdown",
      "source": [
        "## 1. Conociendo la base de datos\n",
        "\n",
        "Antes de poder sentarnos a realizar algún query, es necesario conocer la base de datos que tenemos, para el caso de las bases de datos en SQLite, podemos hacer uso de la herramienta [SQLite Viewer](https://inloop.github.io/sqlite-viewer/).\n",
        "\n",
        "Realizar un listado de las tablas que tenemos y un ejemplo de los datos de cada tabla, como se hizo en el ejemplo anterior.\n"
      ],
      "metadata": {
        "id": "_p-seQsz8MtM"
      }
    },
    {
      "cell_type": "code",
      "source": [],
      "metadata": {
        "id": "atNu6DuO7x4p"
      },
      "execution_count": null,
      "outputs": []
    },
    {
      "cell_type": "markdown",
      "source": [
        "## 2. Filtro por titulos\n",
        "\n",
        "De la tabla de albumns mostrar solo los titulos que tienen **Rock** en el nombre."
      ],
      "metadata": {
        "id": "IdsAWXzSl_sG"
      }
    },
    {
      "cell_type": "code",
      "source": [],
      "metadata": {
        "id": "Tn2BidCdmki6"
      },
      "execution_count": null,
      "outputs": []
    },
    {
      "cell_type": "markdown",
      "source": [
        "## 3. Más Filtros por titulos\n",
        "\n",
        "De la tabla albumns mostrar solo los titulos que tienen **Rock** y **Play**"
      ],
      "metadata": {
        "id": "dTE4GlnqmkzZ"
      }
    },
    {
      "cell_type": "code",
      "source": [],
      "metadata": {
        "id": "vRA6zg9Ym35x"
      },
      "execution_count": null,
      "outputs": []
    },
    {
      "cell_type": "markdown",
      "source": [
        "## 4. Más filtros por titulos\n",
        "\n",
        "De la tabla Albumns mostrar solo los titulos que tienen **Rock** y **Play** o **wall**"
      ],
      "metadata": {
        "id": "CWnNcrkGm4jO"
      }
    },
    {
      "cell_type": "code",
      "source": [],
      "metadata": {
        "id": "IYXQP3ILnLhd"
      },
      "execution_count": null,
      "outputs": []
    },
    {
      "cell_type": "markdown",
      "source": [
        "## 5. Total de titulos\n",
        "\n",
        "Basados en la tabla Albumns, indicar cuantos albumns hay en total, cuantos titulos iguales hay y la cantidad de titulos diferentes que hay registrados en la tabla."
      ],
      "metadata": {
        "id": "D_7by1bInMAa"
      }
    },
    {
      "cell_type": "code",
      "source": [],
      "metadata": {
        "id": "YeGpSj-doRrY"
      },
      "execution_count": null,
      "outputs": []
    }
  ]
}